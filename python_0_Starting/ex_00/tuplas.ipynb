{
 "cells": [
  {
   "cell_type": "markdown",
   "metadata": {},
   "source": [
    "Las tuplas en Python son similares a las listas, pero con una diferencia fundamental: son inmutables. Esto significa que una vez que se crea una tupla, no se pueden modificar, agregar o eliminar elementos de ella. En contraste, las listas son mutables y pueden cambiar de tamaño y contenido.\n",
    "\n",
    "Aquí hay algunas características importantes de las tuplas en Python:\n",
    "\n",
    "Inmutabilidad: Las tuplas no pueden cambiar después de haber sido creadas. Esto significa que no puedes cambiar el valor de ningún elemento de la tupla ni agregar nuevos elementos a ella.\n",
    "\n",
    "Sintaxis: Las tuplas se definen utilizando paréntesis () y los elementos están separados por comas. Incluso si no usas paréntesis, separar elementos por comas de forma implícita crea una tupla."
   ]
  },
  {
   "cell_type": "code",
   "execution_count": null,
   "metadata": {},
   "outputs": [],
   "source": [
    "mi_tupla = (1, 2, 3)\n",
    "otra_tupla = 4, 5, 6  # Esto también es una tupla"
   ]
  },
  {
   "cell_type": "markdown",
   "metadata": {},
   "source": [
    "Acceso a elementos: Al igual que con las listas, puedes acceder a elementos individuales de una tupla utilizando índices."
   ]
  },
  {
   "cell_type": "code",
   "execution_count": null,
   "metadata": {},
   "outputs": [],
   "source": [
    "print(mi_tupla[0])  # Imprime el primer elemento: 1\n",
    "print(otra_tupla[-1])  # Imprime el último elemento: 6"
   ]
  },
  {
   "cell_type": "markdown",
   "metadata": {},
   "source": [
    "Tuplas heterogéneas: Las tuplas pueden contener elementos de diferentes tipos de datos, al igual que las listas."
   ]
  },
  {
   "cell_type": "code",
   "execution_count": null,
   "metadata": {},
   "outputs": [],
   "source": [
    "tupla_mixta = (1, 'dos', True)"
   ]
  },
  {
   "cell_type": "markdown",
   "metadata": {},
   "source": [
    "Tuplas como valores de retorno: A menudo, las funciones en Python devuelven múltiples valores como una tupla."
   ]
  },
  {
   "cell_type": "code",
   "execution_count": null,
   "metadata": {},
   "outputs": [],
   "source": [
    "def coordenadas():\n",
    "    return 10, 20\n",
    "\n",
    "x, y = coordenadas()\n",
    "print(x)  # Imprime: 10\n",
    "print(y)  # Imprime: 20"
   ]
  },
  {
   "cell_type": "markdown",
   "metadata": {},
   "source": [
    "Uso en asignaciones múltiples: Las tuplas se pueden utilizar en asignaciones múltiples para asignar varios valores a múltiples variables en una sola instrucción."
   ]
  },
  {
   "cell_type": "code",
   "execution_count": null,
   "metadata": {},
   "outputs": [],
   "source": [
    "a, b = 1, 2"
   ]
  },
  {
   "cell_type": "markdown",
   "metadata": {},
   "source": [
    "Las tuplas son útiles cuando necesitas una colección de elementos que no cambie, como coordenadas, claves de diccionarios o valores de configuración. Su inmutabilidad proporciona seguridad y garantiza que los datos permanezcan intactos una vez que se han definido."
   ]
  },
  {
   "cell_type": "markdown",
   "metadata": {},
   "source": [
    "Las tuplas en Python son estructuras de datos inmutables, lo que significa que una vez creadas, no se pueden modificar. Sin embargo, aún puedes realizar varias operaciones con tuplas:"
   ]
  },
  {
   "cell_type": "markdown",
   "metadata": {},
   "source": [
    "1. Acceder a elementos: Puedes acceder a elementos individuales de una tupla utilizando índices, de manera similar a como lo harías con una lista."
   ]
  },
  {
   "cell_type": "code",
   "execution_count": null,
   "metadata": {},
   "outputs": [],
   "source": [
    "mi_tupla = (1, 2, 3, 4, 5)\n",
    "print(mi_tupla[0])  # Imprime el primer elemento: 1\n",
    "print(mi_tupla[-1])  # Imprime el último elemento: 5"
   ]
  },
  {
   "cell_type": "markdown",
   "metadata": {},
   "source": [
    "2. Cortar tuplas: Puedes obtener subconjuntos de una tupla utilizando la notación de cortes (slicing), de manera similar a como lo harías con una lista."
   ]
  },
  {
   "cell_type": "code",
   "execution_count": null,
   "metadata": {},
   "outputs": [],
   "source": [
    "print(mi_tupla[1:3])  # Imprime elementos desde el índice 1 al 2: (2, 3)"
   ]
  },
  {
   "cell_type": "markdown",
   "metadata": {},
   "source": [
    "3. Concatenar tuplas: Puedes combinar dos tuplas utilizando el operador +."
   ]
  },
  {
   "cell_type": "code",
   "execution_count": null,
   "metadata": {},
   "outputs": [],
   "source": [
    "otra_tupla = (6, 7, 8)\n",
    "tupla_concatenada = mi_tupla + otra_tupla\n",
    "print(tupla_concatenada)  # Imprime: (1, 2, 3, 4, 5, 6, 7, 8)"
   ]
  },
  {
   "cell_type": "markdown",
   "metadata": {},
   "source": [
    "Multiplicar tuplas: Puedes multiplicar una tupla por un entero para repetir sus elementos."
   ]
  },
  {
   "cell_type": "code",
   "execution_count": null,
   "metadata": {},
   "outputs": [],
   "source": [
    "tupla_repetida = mi_tupla * 2\n",
    "print(tupla_repetida)  # Imprime: (1, 2, 3, 4, 5, 1, 2, 3, 4, 5)"
   ]
  },
  {
   "cell_type": "markdown",
   "metadata": {},
   "source": [
    "Encontrar longitud: Puedes encontrar la longitud de una tupla utilizando la función len()."
   ]
  },
  {
   "cell_type": "code",
   "execution_count": null,
   "metadata": {},
   "outputs": [],
   "source": [
    "print(len(mi_tupla))  # Imprime: 5"
   ]
  },
  {
   "cell_type": "markdown",
   "metadata": {},
   "source": [
    "Iterar sobre tuplas: Puedes utilizar bucles for para iterar sobre los elementos de una tupla."
   ]
  },
  {
   "cell_type": "code",
   "execution_count": null,
   "metadata": {},
   "outputs": [],
   "source": [
    "for elemento in mi_tupla:\n",
    "    print(elemento)"
   ]
  },
  {
   "cell_type": "markdown",
   "metadata": {},
   "source": [
    "La función count() en Python se utiliza para contar cuántas veces aparece un determinado elemento en una tupla. Esta función toma un argumento, que es el elemento que deseas contar en la tupla, y devuelve el número de ocurrencias de ese elemento en la tupla."
   ]
  },
  {
   "cell_type": "code",
   "execution_count": null,
   "metadata": {},
   "outputs": [],
   "source": [
    "mi_tupla = (1, 2, 3, 4, 1, 1, 5, 6, 1)\n",
    "ocurrencias = mi_tupla.count(1)\n",
    "print(\"El número 1 aparece\", ocurrencias, \"veces en la tupla.\")"
   ]
  },
  {
   "cell_type": "markdown",
   "metadata": {},
   "source": [
    "El empaquetado y desempaquetado de tuplas son dos conceptos fundamentales en Python que permiten manejar fácilmente múltiples valores."
   ]
  },
  {
   "cell_type": "markdown",
   "metadata": {},
   "source": [
    "1. Empaquetado de Tuplas:\n",
    "   \n",
    "El empaquetado de tuplas es el proceso de combinar múltiples valores en una única tupla sin la necesidad de usar paréntesis adicionales. Simplemente separas los valores por comas y Python automáticamente crea una tupla con esos valores."
   ]
  },
  {
   "cell_type": "code",
   "execution_count": null,
   "metadata": {},
   "outputs": [],
   "source": [
    "mi_tupla = 1, 2, 3"
   ]
  },
  {
   "cell_type": "markdown",
   "metadata": {},
   "source": [
    "En este ejemplo, mi_tupla es una tupla que contiene los valores 1, 2 y 3. Python empaqueta automáticamente estos valores en una tupla."
   ]
  },
  {
   "cell_type": "markdown",
   "metadata": {},
   "source": [
    "2. Desempaquetado de Tuplas:\n",
    "   \n",
    "El desempaquetado de tuplas es el proceso inverso al empaquetado. Permite asignar los valores de una tupla a múltiples variables en una sola operación. Para desempaquetar una tupla, simplemente asignas la tupla a las variables separadas por comas."
   ]
  },
  {
   "cell_type": "code",
   "execution_count": null,
   "metadata": {},
   "outputs": [],
   "source": [
    "a, b, c = mi_tupla"
   ]
  },
  {
   "cell_type": "markdown",
   "metadata": {},
   "source": [
    "En este caso, Python asignará 1 a a, 2 a b y 3 a c, respectivamente, basándose en el orden de la tupla.\n",
    "\n",
    "El empaquetado y desempaquetado de tuplas son herramientas muy útiles, especialmente cuando trabajas con funciones que devuelven múltiples valores, asignaciones múltiples o estructuras de datos que contienen información relacionada. Permiten un código más conciso y legible."
   ]
  }
 ],
 "metadata": {
  "kernelspec": {
   "display_name": "Python 3",
   "language": "python",
   "name": "python3"
  },
  "language_info": {
   "codemirror_mode": {
    "name": "ipython",
    "version": 3
   },
   "file_extension": ".py",
   "mimetype": "text/x-python",
   "name": "python",
   "nbconvert_exporter": "python",
   "pygments_lexer": "ipython3",
   "version": "3.11.8"
  }
 },
 "nbformat": 4,
 "nbformat_minor": 2
}
