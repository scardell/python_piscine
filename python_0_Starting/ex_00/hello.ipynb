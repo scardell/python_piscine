{
 "cells": [
  {
   "cell_type": "code",
   "execution_count": null,
   "metadata": {},
   "outputs": [],
   "source": [
    "ft_list = [\"Hello\", \"tata!\"]\n",
    "ft_tuple = (\"Hello\", \"toto!\")\n",
    "ft_set = {\"Hello\", \"tutu!\"}\n",
    "ft_dict = {\"Hello\": \"titi!\"}"
   ]
  },
  {
   "cell_type": "markdown",
   "metadata": {},
   "source": [
    "ft_list = [\"Hello\", \"tata!\"]  para definir una lista\n",
    "\n",
    "ft_tuple = (\"Hello\", \"toto!\") para definir una tupla\n",
    "\n",
    "ft_set = {\"Hello\", \"tutu!\"} para definir un set\n",
    "\n",
    "ft_dict = {\"Hello\": \"titi!\"} para definir un diccionario"
   ]
  },
  {
   "cell_type": "markdown",
   "metadata": {},
   "source": [
    "listas\n",
    "\n",
    "En Python, una lista es un tipo de dato que se utiliza para almacenar una colección ordenada de elementos. Puedes pensar en una lista como una secuencia de elementos, donde cada elemento tiene una posición relativa dentro de la lista, comenzando desde el índice 0.\n",
    "\n",
    "Las listas en Python tienen las siguientes características principales:\n",
    "\n",
    "Ordenadas: Los elementos de una lista están ordenados y mantienen el orden en el que fueron insertados.\n",
    "\n",
    "Mutables: Puedes cambiar, agregar o eliminar elementos después de que la lista ha sido creada. Esto significa que las listas son mutables.\n",
    "\n",
    "Heterogéneas: Una lista puede contener elementos de diferentes tipos de datos, como enteros, cadenas, booleanos, e incluso otras listas u otros objetos más complejos.\n",
    "\n",
    "Acceso mediante índices: Puedes acceder a los elementos de una lista utilizando índices enteros, comenzando desde 0 para el primer elemento y hasta (longitud de la lista - 1) para el último elemento.\n",
    "\n",
    "Iterable: Las listas pueden ser utilizadas en bucles for, lo que significa que puedes iterar sobre todos los elementos de la lista uno por uno."
   ]
  }
 ],
 "metadata": {
  "language_info": {
   "name": "python"
  }
 },
 "nbformat": 4,
 "nbformat_minor": 2
}
