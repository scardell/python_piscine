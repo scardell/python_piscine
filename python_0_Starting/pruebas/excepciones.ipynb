{
 "cells": [
  {
   "cell_type": "markdown",
   "metadata": {},
   "source": [
    "<center><h2>Excepciones</h2></center>\n",
    "<style> h2 {color: rgba(255, 255, 100, 1);} </style>"
   ]
  },
  {
   "cell_type": "code",
   "execution_count": null,
   "metadata": {},
   "outputs": [],
   "source": [
    "def indexador(objeto, indice):\n",
    "    return objeto[indice]\n",
    "\n",
    "try:\n",
    "    print(indexador('python', 10))\n",
    "except IndexError:\n",
    "    print('Has puesto un indice muy grande.')\n",
    "print('Hemos salido del try-catch')"
   ]
  },
  {
   "cell_type": "code",
   "execution_count": null,
   "metadata": {},
   "outputs": [],
   "source": [
    "def indexador(objeto, indice):\n",
    "    return objeto[indice]\n",
    "\n",
    "try:\n",
    "    indexador('python', 'h')\n",
    "except (IndexError, TypeError): # Captura varios errores\n",
    "    print('Error.')\n",
    "print('Hemos salido del try-catch')\n",
    "\n",
    "try:\n",
    "    indexador('python', h)\n",
    "except: # Captura todos los errores. No recomendado\n",
    "    print('Error.')\n",
    "print('Hemos salido del try-catch')"
   ]
  },
  {
   "cell_type": "code",
   "execution_count": null,
   "metadata": {},
   "outputs": [],
   "source": [
    "def indexador(objeto, indice):\n",
    "    return objeto[indice]\n",
    "\n",
    "try:\n",
    "    indexador('python', 'h')\n",
    "except IndexError: # Captura IndexError\n",
    "    print('Error de salida.')\n",
    "except TypeError: # Captura TypeError\n",
    "    print('El indice tiene que ser un numero.')\n",
    "print('Hemos salido del try-catch')"
   ]
  },
  {
   "cell_type": "code",
   "execution_count": null,
   "metadata": {},
   "outputs": [],
   "source": [
    "try:\n",
    "    raise IndexError('Excepcion lanzada manualmente')\n",
    "except:\n",
    "    print('He capturado mi propia excepcion')"
   ]
  },
  {
   "cell_type": "markdown",
   "metadata": {},
   "source": [
    "\n",
    "<center><h7>La sesntencia 'assert'</h7></center>\n",
    "<style> h7 {color: rgba(255, 255, 200, 1);} </style>\n",
    "assert(condición), ‘Mensaje de error’"
   ]
  },
  {
   "cell_type": "code",
   "execution_count": null,
   "metadata": {},
   "outputs": [],
   "source": [
    "a = 10\n",
    "b = 15\n",
    "c = 5\n",
    "assert(a > b), 'A tiene que ser mayor que B' # Si se cumple no salta el error\n",
    "\n",
    "print('si se muestra esto es que no ha saltado el error')"
   ]
  },
  {
   "cell_type": "markdown",
   "metadata": {},
   "source": [
    "Una nota importante sobre esta la sentencia assert: su uso es muy útil para detectar errores en depuración, pero no se recomienda el uso de assert en producción."
   ]
  },
  {
   "cell_type": "markdown",
   "metadata": {},
   "source": [
    "<center><h7>Creando nuestras propias excepciones</h7></center>\n",
    "<style> h7 {color: rgba(255, 255, 200, 1);} </style>"
   ]
  },
  {
   "cell_type": "code",
   "execution_count": null,
   "metadata": {},
   "outputs": [],
   "source": [
    "class miPropiaExcepcion(Exception): #Las excepciones heredan de Exception\n",
    "    pass\n",
    "\n",
    "try:\n",
    "    raise miPropiaExcepcion\n",
    "except miPropiaExcepcion:\n",
    "    print('He capturado mi propia excepcion')"
   ]
  },
  {
   "cell_type": "code",
   "execution_count": null,
   "metadata": {},
   "outputs": [],
   "source": [
    "class miError(Exception):\n",
    "\n",
    "    def __init__(self, valor):\n",
    "        self.valor = valor\n",
    "    \n",
    "    def __str__(self):\n",
    "        return str(self.valor)\n",
    "raise(miError('Mensaje de error'))"
   ]
  },
  {
   "cell_type": "markdown",
   "metadata": {},
   "source": [
    "En este ejemplo hemos creado un constructor de nuestra excepción que utilizamos para almacenar un objeto que luego pasaremos al método   \"__str__\" . Este método es un método especial de Python, llamado “método mágico”. En concreto,  \"__str__\" define como hay que representar una clase si se la quiere mostrar como un string (una cadena de texto), por ejemplo, para introducirla en un print, etc.\n",
    "En este caso, el método \"__str__\" permite mostrar el mensaje de error que queramos al lanzar nuestra excepción."
   ]
  },
  {
   "cell_type": "markdown",
   "metadata": {},
   "source": [
    "<center><h7>Acciones de finalizacion y limpieza con \"finally\"</h7></center>\n",
    "<style> h7 {color: rgba(255, 255, 200, 1);} </style>"
   ]
  },
  {
   "cell_type": "code",
   "execution_count": null,
   "metadata": {},
   "outputs": [],
   "source": [
    "def indexador(objeto, indice):\n",
    "    return objeto[indice]\n",
    "\n",
    "try:\n",
    "    print(indexador('python', 10))\n",
    "finally:\n",
    "    print('Esto se ejecuta incluido cuando salta la excepcion')"
   ]
  },
  {
   "cell_type": "code",
   "execution_count": null,
   "metadata": {},
   "outputs": [],
   "source": [
    "def indexador(objeto, indice):\n",
    "    return objeto[indice]\n",
    "\n",
    "try:\n",
    "    indexador('python', 10)\n",
    "    print('Este mensaje no se ejecutara')\n",
    "finally:\n",
    "    print('Esto se ejecuta incluido cuando salta la excepcion')\n",
    "print('Este print tampoco se ejecutara')"
   ]
  },
  {
   "cell_type": "code",
   "execution_count": null,
   "metadata": {},
   "outputs": [],
   "source": [
    "def indexador(objeto, indice):\n",
    "    return objeto[indice]\n",
    "\n",
    "try:\n",
    "    indexador('python', 10)\n",
    "except IndexError:\n",
    "    print('Capturamos la excepcion')\n",
    "finally:\n",
    "    print('Esto se ejecuta incluido cuando salta la excepcion')\n",
    "print('Se ejecutara este print?')"
   ]
  },
  {
   "cell_type": "markdown",
   "metadata": {},
   "source": [
    "<center><h7>El bloque \"else\" en las excepciones</h7></center>\n",
    "<style> h7 {color: rgba(255, 255, 200, 1);} </style>"
   ]
  },
  {
   "cell_type": "code",
   "execution_count": null,
   "metadata": {},
   "outputs": [],
   "source": [
    "def divide(x, y):\n",
    "    try:\n",
    "        resultado = x/y\n",
    "    except ZeroDivisionError:\n",
    "        print('No se puede dividir por cero')\n",
    "    else:\n",
    "        print('El resultado es: ')\n",
    "    finally:\n",
    "        print('Ejecutamos el finally')\n",
    "\n",
    "divide(4, 12)\n",
    "\n",
    "divide(4, 0)"
   ]
  }
 ],
 "metadata": {
  "kernelspec": {
   "display_name": "Python 3",
   "language": "python",
   "name": "python3"
  },
  "language_info": {
   "codemirror_mode": {
    "name": "ipython",
    "version": 3
   },
   "file_extension": ".py",
   "mimetype": "text/x-python",
   "name": "python",
   "nbconvert_exporter": "python",
   "pygments_lexer": "ipython3",
   "version": "3.10.14"
  }
 },
 "nbformat": 4,
 "nbformat_minor": 2
}
