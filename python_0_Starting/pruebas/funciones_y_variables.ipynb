{
 "cells": [
  {
   "cell_type": "markdown",
   "metadata": {},
   "source": [
    "<center><h2>Funciones y variables</h2></center>\n",
    "<style> h2 {color: rgba(255, 255, 100, 1);} </style>"
   ]
  },
  {
   "cell_type": "code",
   "execution_count": null,
   "metadata": {},
   "outputs": [],
   "source": [
    "def suma(a, b): # Definimos la funcion \"suma. Tiene dos parametros\"\n",
    "    return a+b # \"return\" devuelve el resultado de la funcion\n",
    "\n",
    "suma(2, 3)  # Llamada a la funcion. Hay que pasarle dos parametros.\n",
    "\n",
    "def en_pantalla(frase1, frase2):\n",
    "    print(frase1, frase2) # \"return\" no es obligatorio.\n",
    "\n",
    "en_pantalla(\"Me gusta\", 'Python')"
   ]
  },
  {
   "cell_type": "code",
   "execution_count": null,
   "metadata": {},
   "outputs": [],
   "source": [
    "def suma(a, b): # Definimos la funcion \"suma. Tiene dos parametros\"\n",
    "    return a+b # \"return\" devuelve el resultado de la funcion\n",
    "\n",
    "x = suma(2, 3)  # Llamada a la funcion. Hay que pasarle dos parametros.\n",
    "print(x)    # Guardamos el resultado en x"
   ]
  },
  {
   "cell_type": "markdown",
   "metadata": {},
   "source": [
    "<center><h7>Funciones y polimorfismo</h7></center>\n",
    "<style> h7 {color: rgba(255, 255, 200, 1);} </style>"
   ]
  },
  {
   "cell_type": "markdown",
   "metadata": {},
   "source": []
  },
  {
   "cell_type": "code",
   "execution_count": null,
   "metadata": {},
   "outputs": [],
   "source": [
    "def suma(a, b): # Definimos la funcion \"suma. Tiene dos parametros\"\n",
    "    return a+b # \"return\" devuelve el resultado de la funcion\n",
    "\n",
    "suma(2, 3)  # Funcion con ints. Resultado = 5\n",
    "\n",
    "suma(2,7, 4,0)  # Funcion con floats. Resultado = 6,7\n",
    "\n",
    "suma(\"Me gusta\", 'Python')  # Funcion con strings."
   ]
  },
  {
   "cell_type": "markdown",
   "metadata": {},
   "source": [
    "<center><h7>Funciones anidadas</h7></center>\n",
    "<style> h7 {color: rgba(255, 255, 200, 1);} </style>"
   ]
  },
  {
   "cell_type": "code",
   "execution_count": null,
   "metadata": {},
   "outputs": [],
   "source": [
    "def f1(a): # Función que \"encierra\" a f2 (enclosing)\n",
    "    print(a)\n",
    "    b = 100\n",
    "    def f2(x):  # Función anidada\n",
    "        print(x) # Llamamos a f2 desde f1\n",
    "    \n",
    "    f2(b)\n",
    "    \n",
    "f1('Python')    # Llamamos a f1"
   ]
  },
  {
   "cell_type": "markdown",
   "metadata": {},
   "source": [
    "<center><h7>Recursividad</h7></center>\n",
    "<style> h7 {color: rgba(255, 255, 200, 1);} </style>"
   ]
  },
  {
   "cell_type": "code",
   "execution_count": null,
   "metadata": {},
   "outputs": [],
   "source": [
    "def factorial(x):\n",
    "    if x > 1:\n",
    "        return x * factorial(x - 1)\n",
    "    else:\n",
    "        return 1\n",
    "factorial(5)"
   ]
  },
  {
   "cell_type": "markdown",
   "metadata": {},
   "source": [
    "<center><h7>Devolviendo multiples valores simultaneamente</h7></center>\n",
    "<style> h7 {color: rgba(255, 255, 200, 1);} </style>"
   ]
  },
  {
   "cell_type": "code",
   "execution_count": null,
   "metadata": {},
   "outputs": [],
   "source": [
    "def maxmin(lista):\n",
    "    return max(lista), min(lista)   #Devuelve una tupla de 2 elementos\n",
    "l = [1, 3, 5, 6, 0]\n",
    "maximo, minimo = maxmin(l) # Desempaqueta la tupla en 2 variables\n",
    "print(minimo, maximo, sep= ' ')"
   ]
  },
  {
   "cell_type": "code",
   "execution_count": null,
   "metadata": {},
   "outputs": [],
   "source": [
    "def descomponer_en_factores(numero):\n",
    "    \"\"\"\n",
    "    Realiza la descomposición en factores primos de un número dado.\n",
    "    Devuelve una lista con los factores primos.\n",
    "    \"\"\"\n",
    "    factores = []\n",
    "    divisor = 2\n",
    "    while numero > 1:\n",
    "        while numero % divisor == 0:\n",
    "            factores.append(divisor)\n",
    "            numero //= divisor\n",
    "        divisor += 1\n",
    "    return factores\n",
    "\n",
    "# Ejemplo de uso\n",
    "numero = 84\n",
    "print(\"Factores primos de\", numero, \":\", descomponer_en_factores(numero))"
   ]
  },
  {
   "cell_type": "markdown",
   "metadata": {},
   "source": [
    "<center><h7>Ámbito de una función</h7></center>\n",
    "<style> h7 {color: rgba(255, 255, 200, 1);} </style>"
   ]
  },
  {
   "cell_type": "code",
   "execution_count": null,
   "metadata": {},
   "outputs": [],
   "source": [
    "a = 'Python' #Scope global (al módulo)\n",
    "print('Valor fuera:', a)\n",
    "def funcion(): a=33\n",
    "print('Valor dentro', a) #Scope local a la función\n",
    "funcion()\n",
    "\n",
    "print('Valor fuera', a)"
   ]
  },
  {
   "cell_type": "markdown",
   "metadata": {},
   "source": [
    "<center><h7>Parametros y argumentos</h7></center>\n",
    "<style> h7 {color: rgba(255, 255, 200, 1);} </style>"
   ]
  },
  {
   "cell_type": "code",
   "execution_count": null,
   "metadata": {},
   "outputs": [],
   "source": [
    "def minimo(l):\n",
    "    l[0] = 1000 # Modificamos la lista en el interior\n",
    "    return min(l)\n",
    "\n",
    "l = [1, 2, 3]\n",
    "print(l)\n",
    "\n",
    "print(minimo(l)) # Modifica la lista aqui\n",
    "\n",
    "print (l)"
   ]
  },
  {
   "cell_type": "code",
   "execution_count": null,
   "metadata": {},
   "outputs": [],
   "source": [
    "def minimo(l):\n",
    "    l[0] = 1000 # Modificamos la lista en el interior\n",
    "    return min(l)\n",
    "\n",
    "l = [1, 2, 3]\n",
    "print(l)\n",
    "\n",
    "print(minimo(l[:])) # Modifica la lista aqui\n",
    "\n",
    "print (l)"
   ]
  },
  {
   "cell_type": "markdown",
   "metadata": {},
   "source": [
    "<center><h7>Pasos por argumento</h7></center>\n",
    "<style> h7 {color: rgba(255, 255, 200, 1);} </style>"
   ]
  },
  {
   "cell_type": "code",
   "execution_count": null,
   "metadata": {},
   "outputs": [],
   "source": [
    "# Paso por posicion\n",
    "\n",
    "def f(a, b, c):\n",
    "    print(a, b, c)\n",
    "f(1, 2, 3)"
   ]
  },
  {
   "cell_type": "code",
   "execution_count": null,
   "metadata": {},
   "outputs": [],
   "source": [
    "# Paso por keywords(palabra clave)\n",
    "def f(a, b, c):\n",
    "    print(a, b, c)\n",
    "f(c=12, a=10, b=100)"
   ]
  },
  {
   "cell_type": "code",
   "execution_count": null,
   "metadata": {},
   "outputs": [],
   "source": [
    "# Valores por defecto en la definicion\n",
    "def f(a, b=10, c=30): print(a, b, c)\n",
    "f(1)\n",
    "f(1, 12)\n",
    "f(1, 12, 19)"
   ]
  },
  {
   "cell_type": "code",
   "execution_count": null,
   "metadata": {},
   "outputs": [],
   "source": [
    "# Especificando en la funcion que se le pasara una coleccion de argumentos\n",
    "def f(*args):       # Acepta número arbitrario de argumentos\n",
    "    print(args)\n",
    "\n",
    "f() # Si no hay argumentos, args es una tupla vacía\n",
    "f(1)\n",
    "f(1, 2)\n",
    "f(1, 2, 3, 4, 5, 6)"
   ]
  },
  {
   "cell_type": "code",
   "execution_count": null,
   "metadata": {},
   "outputs": [],
   "source": [
    "# Si usamos la sintaxis de doble asterisco, especificamos que le\n",
    "# pasaremos los argumentos por nombre:\n",
    "\n",
    "def f(**Kargs):       # Acepta número de argumentos por nombre\n",
    "    print(Kargs)\n",
    "f()         # Si no hay argumentos, Kargs es un diccionario vacío\n",
    "f(a=1)\n",
    "f(a=1, b=2) \n",
    "f(a=1, c=3, b=2)"
   ]
  },
  {
   "cell_type": "code",
   "execution_count": null,
   "metadata": {},
   "outputs": [],
   "source": [
    "# Desempaquetando una colección de argumentos posicionales o por keyword\n",
    " \n",
    "def f(**Kargs):\n",
    "    print(Kargs)    #Acepta numero de argumentos\n",
    "\n",
    "{'a' : 1, 'c' : 3, 'b' : 2}"
   ]
  },
  {
   "cell_type": "code",
   "execution_count": null,
   "metadata": {},
   "outputs": [],
   "source": [
    "# Se puede desenpaquetar un diccionario usando doble **\n",
    "def f(a, b, c, d):\n",
    "    print(a, b, c, d)\n",
    "argumentos = {'b':20, 'a':1, 'c':300, 'd':4000}\n",
    "\n",
    "f(**argumentos) # Desempaquetando diccionario argumentos con **\n",
    "\n",
    "argumentos = {'b':200, 'c':300, 'd':400}\n",
    "\n",
    "# Podemos combinar argumentos posicionales con dict\n",
    "\n",
    "f(10, **argumentos) "
   ]
  },
  {
   "cell_type": "code",
   "execution_count": null,
   "metadata": {},
   "outputs": [],
   "source": [
    "# Utilizando argumentos que sólo pueden ser pasados por clave (keyword-only)\n",
    "def f(a, *, b, c): # Define 'b' y 'c' como keyword-only con el *\n",
    "    print(a, b, c)\n",
    "f(1, b=10, c=100)\n",
    "f(1, 10, 100) # Error al no pasar argumentos Keyword-only"
   ]
  },
  {
   "cell_type": "code",
   "execution_count": null,
   "metadata": {},
   "outputs": [],
   "source": [
    "def f(a, *b, c): # Hay que pasar 'c' por clave obligatoriamente\n",
    "    print(a, b, c)\n",
    "f(1, c=2)\n",
    "f(1, 2, c=3)\n",
    "f(1, 2, 3, 4, 5, c=10)\n",
    "# Los argumentos tras el ‘*’ se convierten en keyword- only:"
   ]
  },
  {
   "cell_type": "code",
   "execution_count": 20,
   "metadata": {},
   "outputs": [
    {
     "name": "stdout",
     "output_type": "stream",
     "text": [
      "[1, 2, 3, 4, 5]\n",
      "['a', 'b', 'c', 'd', 'e']\n",
      "['A', 'B', 'C', 'D', 'E']\n",
      "[1, 2, 3, 4, 5] ['a', 'b', 'c', 'd', 'e']\n"
     ]
    }
   ],
   "source": [
    "la = [1, 2, 3, 4, 5]\n",
    "lb = list('abcde')\n",
    "lc = list('ABCDE')\n",
    "\n",
    "zlist = list(zip(la, lb, lc)) \n",
    "\n",
    "# zip soporta cualquier número argumentos posicionales\n",
    "\n",
    "zlist\n",
    "\n",
    "a, b, c = zip(*zlist)\n",
    "# El * en zip desempaqueta lista de tuplas\n",
    "\n",
    "print(la, lb, lc, sep = '\\n')\n",
    "print(la, lb) # Seperador por defecto es espacio"
   ]
  },
  {
   "cell_type": "markdown",
   "metadata": {},
   "source": [
    "<center><h7>prueba</h7></center>\n",
    "<style> h7 {color: rgba(255, 255, 200, 1);} </style>"
   ]
  },
  {
   "cell_type": "code",
   "execution_count": 22,
   "metadata": {},
   "outputs": [
    {
     "name": "stdout",
     "output_type": "stream",
     "text": [
      "LOG: (2, 5, 6, 8)\n"
     ]
    }
   ],
   "source": [
    "def log(*args):\n",
    "    print(\"LOG:\", args)\n",
    "\n",
    "log(2, 5, 6, 8)"
   ]
  },
  {
   "cell_type": "code",
   "execution_count": 23,
   "metadata": {},
   "outputs": [
    {
     "name": "stdout",
     "output_type": "stream",
     "text": [
      "a : 1\n",
      "b : 2\n",
      "c : 3\n"
     ]
    }
   ],
   "source": [
    "def log(**kwargs):\n",
    "    for key, value in kwargs.items():\n",
    "        print(key, \":\", value)\n",
    "\n",
    "diccionario = {'a': 1, 'b': 2, 'c': 3}\n",
    "log(**diccionario)"
   ]
  }
 ],
 "metadata": {
  "kernelspec": {
   "display_name": "Python 3",
   "language": "python",
   "name": "python3"
  },
  "language_info": {
   "codemirror_mode": {
    "name": "ipython",
    "version": 3
   },
   "file_extension": ".py",
   "mimetype": "text/x-python",
   "name": "python",
   "nbconvert_exporter": "python",
   "pygments_lexer": "ipython3",
   "version": "3.10.14"
  }
 },
 "nbformat": 4,
 "nbformat_minor": 2
}
