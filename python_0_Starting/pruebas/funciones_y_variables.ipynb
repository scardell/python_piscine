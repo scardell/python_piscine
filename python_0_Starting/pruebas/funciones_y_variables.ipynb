{
 "cells": [
  {
   "cell_type": "markdown",
   "metadata": {},
   "source": [
    "<center><h2>Funciones y variables</h2></center>\n",
    "<style> h2 {color: rgba(255, 255, 100, 1);} </style>"
   ]
  },
  {
   "cell_type": "code",
   "execution_count": null,
   "metadata": {},
   "outputs": [],
   "source": [
    "def suma(a, b): # Definimos la funcion \"suma. Tiene dos parametros\"\n",
    "    return a+b # \"return\" devuelve el resultado de la funcion\n",
    "\n",
    "suma(2, 3)  # Llamada a la funcion. Hay que pasarle dos parametros.\n",
    "\n",
    "def en_pantalla(frase1, frase2):\n",
    "    print(frase1, frase2) # \"return\" no es obligatorio.\n",
    "\n",
    "en_pantalla(\"Me gusta\", 'Python')"
   ]
  },
  {
   "cell_type": "code",
   "execution_count": null,
   "metadata": {},
   "outputs": [],
   "source": [
    "def suma(a, b): # Definimos la funcion \"suma. Tiene dos parametros\"\n",
    "    return a+b # \"return\" devuelve el resultado de la funcion\n",
    "\n",
    "x = suma(2, 3)  # Llamada a la funcion. Hay que pasarle dos parametros.\n",
    "print(x)    # Guardamos el resultado en x"
   ]
  },
  {
   "cell_type": "markdown",
   "metadata": {},
   "source": [
    "<center><h7>Funciones y polimorfismo</h7></center>\n",
    "<style> h7 {color: rgba(255, 255, 200, 1);} </style>"
   ]
  },
  {
   "cell_type": "code",
   "execution_count": null,
   "metadata": {},
   "outputs": [],
   "source": [
    "def suma(a, b): # Definimos la funcion \"suma. Tiene dos parametros\"\n",
    "    return a+b # \"return\" devuelve el resultado de la funcion\n",
    "\n",
    "suma(2, 3)  # Funcion con ints. Resultado = 5\n",
    "\n",
    "suma(2,7, 4,0)  # Funcion con floats. Resultado = 6,7\n",
    "\n",
    "suma(\"Me gusta\", 'Python')  # Funcion con strings."
   ]
  },
  {
   "cell_type": "markdown",
   "metadata": {},
   "source": [
    "<center><h7>Funciones anidadas</h7></center>\n",
    "<style> h7 {color: rgba(255, 255, 200, 1);} </style>"
   ]
  },
  {
   "cell_type": "code",
   "execution_count": null,
   "metadata": {},
   "outputs": [],
   "source": [
    "def f1(a): # Función que \"encierra\" a f2 (enclosing)\n",
    "    print(a)\n",
    "    b = 100\n",
    "    def f2(x):  # Función anidada\n",
    "        print(x) # Llamamos a f2 desde f1\n",
    "    \n",
    "    f2(b)\n",
    "    \n",
    "f1('Python')    # Llamamos a f1"
   ]
  },
  {
   "cell_type": "markdown",
   "metadata": {},
   "source": [
    "<center><h7>Recursividad</h7></center>\n",
    "<style> h7 {color: rgba(255, 255, 200, 1);} </style>"
   ]
  },
  {
   "cell_type": "code",
   "execution_count": null,
   "metadata": {},
   "outputs": [],
   "source": [
    "def factorial(x):\n",
    "    if x > 1:\n",
    "        return x * factorial(x - 1)\n",
    "    else:\n",
    "        return 1\n",
    "factorial(5)"
   ]
  },
  {
   "cell_type": "markdown",
   "metadata": {},
   "source": [
    "<center><h7>Devolviendo multiples valores simultaneamente</h7></center>\n",
    "<style> h7 {color: rgba(255, 255, 200, 1);} </style>"
   ]
  },
  {
   "cell_type": "code",
   "execution_count": null,
   "metadata": {},
   "outputs": [],
   "source": [
    "def maxmin(lista):\n",
    "    return max(lista), min(lista)   #Devuelve una tupla de 2 elementos\n",
    "l = [1, 3, 5, 6, 0]\n",
    "maximo, minimo = maxmin(l) # Desempaqueta la tupla en 2 variables\n",
    "print(minimo, maximo, sep= ' ')"
   ]
  },
  {
   "cell_type": "code",
   "execution_count": null,
   "metadata": {},
   "outputs": [],
   "source": [
    "def descomponer_en_factores(numero):\n",
    "    \"\"\"\n",
    "    Realiza la descomposición en factores primos de un número dado.\n",
    "    Devuelve una lista con los factores primos.\n",
    "    \"\"\"\n",
    "    factores = []\n",
    "    divisor = 2\n",
    "    while numero > 1:\n",
    "        while numero % divisor == 0:\n",
    "            factores.append(divisor)\n",
    "            numero //= divisor\n",
    "        divisor += 1\n",
    "    return factores\n",
    "\n",
    "# Ejemplo de uso\n",
    "numero = 84\n",
    "print(\"Factores primos de\", numero, \":\", descomponer_en_factores(numero))"
   ]
  },
  {
   "cell_type": "markdown",
   "metadata": {},
   "source": [
    "<center><h7>Ámbito de una función</h7></center>\n",
    "<style> h7 {color: rgba(255, 255, 200, 1);} </style>"
   ]
  },
  {
   "cell_type": "code",
   "execution_count": null,
   "metadata": {},
   "outputs": [],
   "source": [
    "a = 'Python' #Scope global (al módulo)\n",
    "print('Valor fuera:', a)\n",
    "def funcion(): a=33\n",
    "print('Valor dentro', a) #Scope local a la función\n",
    "funcion()\n",
    "\n",
    "print('Valor fuera', a)"
   ]
  }
 ],
 "metadata": {
  "kernelspec": {
   "display_name": "Python 3",
   "language": "python",
   "name": "python3"
  },
  "language_info": {
   "codemirror_mode": {
    "name": "ipython",
    "version": 3
   },
   "file_extension": ".py",
   "mimetype": "text/x-python",
   "name": "python",
   "nbconvert_exporter": "python",
   "pygments_lexer": "ipython3",
   "version": "3.10.14"
  }
 },
 "nbformat": 4,
 "nbformat_minor": 2
}
