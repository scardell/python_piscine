{
 "cells": [
  {
   "cell_type": "markdown",
   "metadata": {},
   "source": [
    "<center><h2>ft_filter</h2></center>\n",
    "<style> h2 {color: rgba(255, 255, 100, 1);} </style>"
   ]
  },
  {
   "cell_type": "markdown",
   "metadata": {},
   "source": [
    "Esta implementación de la función ft_filter() sigue la misma lógica que la versión original de filter() en Python"
   ]
  },
  {
   "cell_type": "code",
   "execution_count": null,
   "metadata": {},
   "outputs": [],
   "source": [
    "def ft_filter(function, sequence):\n",
    "    if function:\n",
    "        return (item for item in sequence if function(item))\n",
    "    return (item for item in sequence if item)"
   ]
  },
  {
   "cell_type": "markdown",
   "metadata": {},
   "source": [
    "La función ft_filter() toma dos parámetros: function y sequence.\n",
    "\n",
    "Comprueba si se proporciona una función (function) o si es None. Si function no es None, crea un generador que produce solo los elementos de sequence para los cuales function(item) devuelve True.\n",
    "\n",
    "Si function es None, crea un generador que produce los elementos de sequence que son evaluados como verdaderos según Python (es decir, aquellos para los cuales bool(item) devuelve True).\n",
    "\n",
    "La forma en que has estructurado tu código es clara y concisa. Utilizas la expresión generadora para crear el iterable que produce los elementos filtrados, lo que hace que el código sea eficiente y legible."
   ]
  }
 ],
 "metadata": {
  "language_info": {
   "name": "python"
  }
 },
 "nbformat": 4,
 "nbformat_minor": 2
}
