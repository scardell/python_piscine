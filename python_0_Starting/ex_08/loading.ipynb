{
 "cells": [
  {
   "cell_type": "code",
   "execution_count": 2,
   "metadata": {},
   "outputs": [],
   "source": [
    "import time\n",
    "\n",
    "def ft_tqdm(iterable, total=None, desc=None):\n",
    "    if total is None:\n",
    "        total = len(iterable)\n",
    "\n",
    "    if desc is None:\n",
    "        desc = \"Progress\"\n",
    "\n",
    "    for i, item in enumerate(iterable, 1):\n",
    "        progress = i / total * 100\n",
    "        bar = '[' + '=' * int(progress / 10) + ' ' * (10 - int(progress / 10)) + ']'\n",
    "        print(f\"\\r{desc}: {bar} {progress:.2f}% ({i}/{total})\", end='', flush=True)\n",
    "        time.sleep(0.5)  # Simula un proceso que tarda un poco en completarse\n",
    "\n",
    "    print(\"\\nDone!\")\n"
   ]
  },
  {
   "cell_type": "code",
   "execution_count": 5,
   "metadata": {},
   "outputs": [
    {
     "name": "stdout",
     "output_type": "stream",
     "text": [
      "Simulation: [==========] 100.00% (50/50)\n",
      "Done!\n"
     ]
    }
   ],
   "source": [
    "\n",
    "# Ejemplo de uso\n",
    "ft_tqdm(range(50), desc=\"Simulation\")"
   ]
  }
 ],
 "metadata": {
  "kernelspec": {
   "display_name": "Python 3",
   "language": "python",
   "name": "python3"
  },
  "language_info": {
   "codemirror_mode": {
    "name": "ipython",
    "version": 3
   },
   "file_extension": ".py",
   "mimetype": "text/x-python",
   "name": "python",
   "nbconvert_exporter": "python",
   "pygments_lexer": "ipython3",
   "version": "3.10.14"
  }
 },
 "nbformat": 4,
 "nbformat_minor": 2
}
