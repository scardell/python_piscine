{
 "cells": [
  {
   "cell_type": "markdown",
   "metadata": {},
   "source": []
  },
  {
   "cell_type": "code",
   "execution_count": 6,
   "metadata": {},
   "outputs": [
    {
     "name": "stdout",
     "output_type": "stream",
     "text": [
      "AssertionError: Too many arguments provided\n"
     ]
    }
   ],
   "source": [
    "%run building.py hahsigkfsdhg kasdlkdgllkagfk"
   ]
  },
  {
   "cell_type": "code",
   "execution_count": null,
   "metadata": {},
   "outputs": [],
   "source": [
    "import sys\n",
    "\n",
    "\n",
    "def analyze_text(text):\n",
    "    \"\"\"\n",
    "    text (input string): The text to analyze\n",
    "\n",
    "    Prints the following information:\n",
    "    1. The number of characters in the text\n",
    "    2. The number of upper case letters\n",
    "    3. The number of lower case letters\n",
    "    4. The number of punctuation marks\n",
    "    5. The number of spaces\n",
    "    6. The number of digits\n",
    "    \"\"\"\n",
    "    total_chars = len(text)\n",
    "    upper_count = sum(1 for char in text if char.isupper())\n",
    "    lower_count = sum(1 for char in text if char.islower())\n",
    "    punctuation_characters = \"!\\\"#$%&'()*+,-./:;<=>?@[\\\\]^_`{|}~\"\n",
    "    punctuation_cnt = sum(1 for char in text if char in punctuation_characters)\n",
    "    space_count = sum(1 for char in text if char.isspace())\n",
    "    digit_count = sum(1 for char in text if char.isdigit())\n",
    "\n",
    "    print(f\"The text contains {total_chars} characters:\")\n",
    "    print(f\"{upper_count} upper letters\")\n",
    "    print(f\"{lower_count} lower letters\")\n",
    "    print(f\"{punctuation_cnt} punctuation marks\")\n",
    "    print(f\"{space_count} spaces\")\n",
    "    print(f\"{digit_count} digits\")\n",
    "\n",
    "\n",
    "def main():\n",
    "    \"\"\"\n",
    "    Analyzes the given text and prints information about its char composition.\n",
    "\n",
    "    Asks for input if no argument is given:\n",
    "\n",
    "    raises AssertionError: Too many arguments provided\n",
    "    \"\"\"\n",
    "    try:\n",
    "        if len(sys.argv) < 2:\n",
    "            try:\n",
    "                s = input(\"What is the text to count?\\n\")\n",
    "                s += \"\\n\"\n",
    "            except EOFError:\n",
    "                pass\n",
    "        elif len(sys.argv) == 2:\n",
    "            s = sys.argv[1]\n",
    "        elif len(sys.argv) > 2:\n",
    "            raise AssertionError(\"Too many arguments provided\")\n",
    "        analyze_text(s)\n",
    "    except AssertionError as error:\n",
    "        print(AssertionError.__name__ + \":\", error)\n",
    "\n",
    "\n",
    "if __name__ == \"__main__\":\n",
    "    main()"
   ]
  }
 ],
 "metadata": {
  "kernelspec": {
   "display_name": "Python 3",
   "language": "python",
   "name": "python3"
  },
  "language_info": {
   "codemirror_mode": {
    "name": "ipython",
    "version": 3
   },
   "file_extension": ".py",
   "mimetype": "text/x-python",
   "name": "python",
   "nbconvert_exporter": "python",
   "pygments_lexer": "ipython3",
   "version": "3.10.14"
  }
 },
 "nbformat": 4,
 "nbformat_minor": 2
}
