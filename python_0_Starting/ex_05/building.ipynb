{
 "cells": [
  {
   "cell_type": "markdown",
   "metadata": {},
   "source": []
  },
  {
   "cell_type": "code",
   "execution_count": null,
   "metadata": {},
   "outputs": [],
   "source": [
    "%run building.py \"estoes un texto para analizar42\""
   ]
  },
  {
   "cell_type": "code",
   "execution_count": null,
   "metadata": {},
   "outputs": [],
   "source": [
    "import sys\n",
    "\n",
    "def analyze_text(text):\n",
    "\ttotal_chars = len(text)\n",
    "\tupper_count = sum(1 for char in text if char.isupper())\n",
    "\tlower_count = sum(1 for char in text if char.islower())\n",
    "\tpunctuation_marks = \"!\\\"#$%&'()*+,-./:;<=>?@[\\\\]^_`{|}~\"\n",
    "\tpunctuation_count = sum(1 for char in text if char in punctuation_marks)\n",
    "\tspace_count = sum(1 for char in text if char.isspace())\n",
    "\tdigit_count = sum (1 for char in text if char.isdigit())\n",
    "\n",
    "\tprint(f\"The text contains {total_chars} characters:\")\n",
    "\tprint(f\"{upper_count} upper letters\")\n",
    "\tprint(f\"{lower_count} lower letters\")\n",
    "\tprint(f\"{punctuation_count} punctuation marks\")\n",
    "\tprint(f\"{space_count} spaces\")\n",
    "\tprint(f\"{digit_count} digits\")\n",
    "\n",
    "def main():\n",
    "\ttry:\n",
    "\t\tif len(sys.argv) < 2:\n",
    "\t\t\ttry:\n",
    "\t\t\t\ttext_to_analyze = input(\"What is the text to count?\\n\")\n",
    "\t\t\texcept EOFError:\n",
    "\t\t\t\tpass\n",
    "\t\telif len(sys.argv) == 2:\n",
    "\t\t\ttext_to_analyze = sys.argv[1]\n",
    "\t\telif len(sys.argv) > 2:\n",
    "\t\t\traise AssertionError(\"Too many arguments provided\")\n",
    "\t\tanalyze_text(text_to_analyze)\n",
    "\texcept AssertionError as error:\n",
    "\t\tprint(AssertionError.__name__ + \":\", error)\n",
    "\n",
    "if __name__ == \"__main__\":\n",
    "    main()"
   ]
  }
 ],
 "metadata": {
  "kernelspec": {
   "display_name": "Python 3",
   "language": "python",
   "name": "python3"
  },
  "language_info": {
   "codemirror_mode": {
    "name": "ipython",
    "version": 3
   },
   "file_extension": ".py",
   "mimetype": "text/x-python",
   "name": "python",
   "nbconvert_exporter": "python",
   "pygments_lexer": "ipython3",
   "version": "3.10.14"
  }
 },
 "nbformat": 4,
 "nbformat_minor": 2
}
