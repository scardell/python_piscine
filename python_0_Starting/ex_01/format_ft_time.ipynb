{
 "cells": [
  {
   "cell_type": "markdown",
   "metadata": {},
   "source": [
    "1. Importar los módulos necesarios:"
   ]
  },
  {
   "cell_type": "code",
   "execution_count": null,
   "metadata": {},
   "outputs": [],
   "source": [
    "import datetime\n",
    "import time"
   ]
  },
  {
   "cell_type": "markdown",
   "metadata": {},
   "source": [
    "datetime: Este módulo proporciona clases para manipular fechas y horas de manera eficiente.\n",
    "\n",
    "time: Este módulo proporciona funciones relacionadas con el tiempo, incluida una función para obtener la hora actual."
   ]
  },
  {
   "cell_type": "markdown",
   "metadata": {},
   "source": [
    "2. Obtener la hora actual en segundos y Obtener la fecha actual:"
   ]
  },
  {
   "cell_type": "code",
   "execution_count": null,
   "metadata": {},
   "outputs": [],
   "source": [
    "current_time = time.time()\n",
    "current_date = datetime.date.today()"
   ]
  },
  {
   "cell_type": "markdown",
   "metadata": {},
   "source": [
    "time.time(): Esta función devuelve el tiempo actual en segundos desde el epoch (1 de enero de 1970, 00:00:00 UTC) como un número de punto flotante.\n",
    "\n",
    "datetime.date.today(): Esta función devuelve un objeto date que representa la fecha actual (año, mes y día)."
   ]
  },
  {
   "cell_type": "markdown",
   "metadata": {},
   "source": [
    "3. Formatear los segundos y Formatear los segundos en notación científica:"
   ]
  },
  {
   "cell_type": "code",
   "execution_count": null,
   "metadata": {},
   "outputs": [],
   "source": [
    "formatted_seconds = f\"{current_time:,.4f}\"\n",
    "scientific_notation = f\"{current_time:.2e}\""
   ]
  },
  {
   "cell_type": "markdown",
   "metadata": {},
   "source": [
    "Esto utiliza una cadena de formato f para formatear current_time. El especificador :,.4f significa que formatea el número de punto flotante (f) con cuatro decimales (4f) y agrega comas como separadores de miles (,:).\n",
    "\n",
    "Esto también utiliza una cadena de formato f para formatear current_time en notación científica con dos decimales."
   ]
  },
  {
   "cell_type": "code",
   "execution_count": null,
   "metadata": {},
   "outputs": [],
   "source": [
    "print(current_time)"
   ]
  },
  {
   "cell_type": "markdown",
   "metadata": {},
   "source": [
    "4. Imprimir la cantidad de segundos en dos formatos diferentes y Imprimir la fecha actual en un formato específico:"
   ]
  },
  {
   "cell_type": "code",
   "execution_count": null,
   "metadata": {},
   "outputs": [],
   "source": [
    "print(f\"seconds since January 1, 1970: {formatted_seconds} or {scientific_notation} in specific notation\")\n",
    "print(f\"{current_date}\")\n",
    "print(f\"{current_date.strftime('%B')} {current_date.day} {current_date.year}\")\n",
    "print(f\"{current_date.strftime('%b %d %Y')}\")"
   ]
  },
  {
   "cell_type": "markdown",
   "metadata": {},
   "source": [
    "Esto imprime la cantidad de segundos desde el epoch en los formatos previamente formateados (formatted_seconds y scientific_notation).\n",
    "\n",
    "current_date.strftime('%b %d %Y'): Aquí se usa el método strftime() para formatear la fecha (current_date) según el formato especificado ('%b %d %Y'), que representa el mes (abreviado), día y año en cuatro dígitos."
   ]
  }
 ],
 "metadata": {
  "kernelspec": {
   "display_name": "Python 3",
   "language": "python",
   "name": "python3"
  },
  "language_info": {
   "codemirror_mode": {
    "name": "ipython",
    "version": 3
   },
   "file_extension": ".py",
   "mimetype": "text/x-python",
   "name": "python",
   "nbconvert_exporter": "python",
   "pygments_lexer": "ipython3",
   "version": "3.11.8"
  }
 },
 "nbformat": 4,
 "nbformat_minor": 2
}
