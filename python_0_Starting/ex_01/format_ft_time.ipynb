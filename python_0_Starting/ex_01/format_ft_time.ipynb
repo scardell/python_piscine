{
 "cells": [
  {
   "cell_type": "markdown",
   "metadata": {},
   "source": []
  },
  {
   "cell_type": "code",
   "execution_count": 10,
   "metadata": {},
   "outputs": [],
   "source": [
    "import datetime\n",
    "import time"
   ]
  },
  {
   "cell_type": "code",
   "execution_count": 11,
   "metadata": {},
   "outputs": [],
   "source": [
    "current_time = time.time()\n",
    "current_date = datetime.date.today()"
   ]
  },
  {
   "cell_type": "code",
   "execution_count": 12,
   "metadata": {},
   "outputs": [],
   "source": [
    "formatted_seconds = f\"{current_time:,.4f}\"\n",
    "scientific_notation = f\"{current_time:.2e}\""
   ]
  },
  {
   "cell_type": "code",
   "execution_count": 13,
   "metadata": {},
   "outputs": [
    {
     "name": "stdout",
     "output_type": "stream",
     "text": [
      "1711294489.1639252\n"
     ]
    }
   ],
   "source": [
    "print(current_time)"
   ]
  },
  {
   "cell_type": "code",
   "execution_count": 14,
   "metadata": {},
   "outputs": [
    {
     "name": "stdout",
     "output_type": "stream",
     "text": [
      "seconds since January 1, 1970: 1,711,294,489.1639 or 1.71e+09 in specific notation\n",
      "2024-03-24\n",
      "March 24 2024\n",
      "Mar 24 2024\n"
     ]
    }
   ],
   "source": [
    "print(f\"seconds since January 1, 1970: {formatted_seconds} or {scientific_notation} in specific notation\")\n",
    "print(f\"{current_date}\")\n",
    "print(f\"{current_date.strftime('%B')} {current_date.day} {current_date.year}\")\n",
    "print(f\"{current_date.strftime('%b %d %Y')}\")"
   ]
  }
 ],
 "metadata": {
  "kernelspec": {
   "display_name": "Python 3",
   "language": "python",
   "name": "python3"
  },
  "language_info": {
   "codemirror_mode": {
    "name": "ipython",
    "version": 3
   },
   "file_extension": ".py",
   "mimetype": "text/x-python",
   "name": "python",
   "nbconvert_exporter": "python",
   "pygments_lexer": "ipython3",
   "version": "3.11.8"
  }
 },
 "nbformat": 4,
 "nbformat_minor": 2
}
