{
 "cells": [
  {
   "cell_type": "markdown",
   "metadata": {},
   "source": []
  },
  {
   "cell_type": "code",
   "execution_count": 1,
   "metadata": {},
   "outputs": [],
   "source": [
    "import datetime"
   ]
  },
  {
   "cell_type": "markdown",
   "metadata": {},
   "source": [
    " Esa parte del código se encarga de formatear el objeto current_time (que es un objeto datetime que representa el tiempo actual) en una cadena de texto con un formato específico.\n",
    "\n",
    "Aquí está el desglose del formato utilizado en strftime():\n",
    "\n",
    "%B: Este es un especificador de formato que representa el nombre completo del mes en el idioma local. Por ejemplo, si la fecha es el 23 de marzo, %B se convertirá en \"March\".\n",
    "\n",
    "%d: Este especificador representa el día del mes como un número de dos dígitos con ceros a la izquierda si es necesario. Por ejemplo, si la fecha es el 23 de marzo, %d se convertirá en \"23\".\n",
    "\n",
    "%Y: Este especificador representa el año como un número de cuatro dígitos. Por ejemplo, si la fecha es el 23 de marzo de 2024, %Y se convertirá en \"2024\".\n",
    "\n",
    "%H: Este especificador representa la hora en formato de 24 horas como un número de dos dígitos con ceros a la izquierda si es necesario. Por ejemplo, si la hora es 09:30 AM, %H se convertirá en \"09\".\n",
    "\n",
    "%M: Este especificador representa los minutos como un número de dos dígitos con ceros a la izquierda si es necesario. Por ejemplo, si la hora es 09:30 AM, %M se convertirá en \"30\".\n",
    "\n",
    "%S: Este especificador representa los segundos como un número de dos dígitos con ceros a la izquierda si es necesario. Por ejemplo, si la hora es 09:30:15 AM, %S se convertirá en \"15\".\n",
    "\n",
    "Cuando usas strftime() con estos especificadores de formato, el método formatea el objeto datetime de acuerdo con el formato especificado y devuelve una cadena que representa la fecha y la hora en ese formato específico. En resumen, current_time.strftime(\"%B %d, %Y %H:%M:%S\") formatea current_time como una cadena que muestra el nombre completo del mes, el día del mes, el año, la hora, los minutos y los segundos."
   ]
  },
  {
   "cell_type": "code",
   "execution_count": 5,
   "metadata": {},
   "outputs": [],
   "source": [
    "current_time = datetime.datetime.now()\n",
    "formated_current_time = current_time.strftime(\"%B %d, %Y %H:%M:%S\")"
   ]
  },
  {
   "cell_type": "code",
   "execution_count": null,
   "metadata": {},
   "outputs": [],
   "source": [
    "formated_current_time = locale.format_string(\"%.4f\", current_time, grouping=True)"
   ]
  },
  {
   "cell_type": "code",
   "execution_count": 7,
   "metadata": {},
   "outputs": [
    {
     "data": {
      "text/plain": [
       "datetime.datetime(2024, 3, 23, 8, 8, 52, 557087)"
      ]
     },
     "execution_count": 7,
     "metadata": {},
     "output_type": "execute_result"
    }
   ],
   "source": [
    "current_time"
   ]
  },
  {
   "cell_type": "code",
   "execution_count": null,
   "metadata": {},
   "outputs": [],
   "source": []
  }
 ],
 "metadata": {
  "kernelspec": {
   "display_name": "Python 3",
   "language": "python",
   "name": "python3"
  },
  "language_info": {
   "codemirror_mode": {
    "name": "ipython",
    "version": 3
   },
   "file_extension": ".py",
   "mimetype": "text/x-python",
   "name": "python",
   "nbconvert_exporter": "python",
   "pygments_lexer": "ipython3",
   "version": "3.11.8"
  }
 },
 "nbformat": 4,
 "nbformat_minor": 2
}
