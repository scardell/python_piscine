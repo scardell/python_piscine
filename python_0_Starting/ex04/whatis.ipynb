{
 "cells": [
  {
   "cell_type": "markdown",
   "metadata": {},
   "source": [
    "Create a script that takes a number as argument, checks whether it is odd or even,\n",
    "and prints the result.\n",
    "If more than one argument is provided or if the argument is not an integer, print an\n",
    "AssertionError."
   ]
  },
  {
   "cell_type": "markdown",
   "metadata": {},
   "source": [
    "\n",
    "Para pasar argumentos a un script en Jupyter Notebook, puedes usar el comando mágico %run seguido del nombre del script y los argumentos que deseas pasar"
   ]
  },
  {
   "cell_type": "code",
   "execution_count": null,
   "metadata": {},
   "outputs": [],
   "source": [
    "%run whatis.py 5"
   ]
  },
  {
   "cell_type": "markdown",
   "metadata": {},
   "source": [
    "Este comando ejecutará el script whatis.py con el argumento 5. Dentro del script, sys.argv[1] contendrá el valor \"5\" como una cadena."
   ]
  },
  {
   "cell_type": "markdown",
   "metadata": {},
   "source": [
    "1. Importación del módulo sys:"
   ]
  },
  {
   "cell_type": "code",
   "execution_count": null,
   "metadata": {},
   "outputs": [],
   "source": [
    "import sys"
   ]
  },
  {
   "cell_type": "markdown",
   "metadata": {},
   "source": [
    "Esto importa el módulo sys, que proporciona acceso a algunas variables y funciones específicas del sistema."
   ]
  },
  {
   "cell_type": "markdown",
   "metadata": {},
   "source": [
    "2. Definición de la función check_odd_or_even:"
   ]
  },
  {
   "cell_type": "code",
   "execution_count": null,
   "metadata": {},
   "outputs": [],
   "source": [
    "def check_odd_or_even(number):\n",
    "    if number % 2 == 0:\n",
    "        return \"I'm Even.\"\n",
    "    else:\n",
    "        return \"I'm Odd.\""
   ]
  },
  {
   "cell_type": "markdown",
   "metadata": {},
   "source": [
    "Esta función toma un número como argumento y determina si es par o impar. Si el número es par (su residuo al dividirlo por 2 es 0), devuelve \"I'm Even.\" (Soy par), de lo contrario, devuelve \"I'm Odd.\" (Soy impar)."
   ]
  },
  {
   "cell_type": "markdown",
   "metadata": {},
   "source": [
    "3. Bloque try-except principal:"
   ]
  },
  {
   "cell_type": "code",
   "execution_count": null,
   "metadata": {},
   "outputs": [],
   "source": [
    "try:\n",
    "    try:\n",
    "        if len(sys.argv) < 2:\n",
    "            exit()\n",
    "        number = int(sys.argv[1])\n",
    "    except ValueError:\n",
    "        raise AssertionError(\"Argument is not an integer\")\n",
    "    if len(sys.argv) != 2:\n",
    "        raise AssertionError(\"Incorrect number of arguments\")\n",
    "\n",
    "    result = check_odd_or_even(number)\n",
    "    print(result)\n",
    "\n",
    "except AssertionError as error:\n",
    "    print(AssertionError.__name__ + \":\", error)"
   ]
  },
  {
   "cell_type": "markdown",
   "metadata": {},
   "source": [
    "El primer bloque try anidado intenta convertir el segundo argumento pasado al script de línea de comandos en un número entero (int(sys.argv[1])). Si la conversión falla (porque el argumento no es un número entero), se genera un ValueError, que se captura y se lanza como una AssertionError con un mensaje personalizado.\n",
    "\n",
    "Luego, se verifica si se proporciona exactamente un argumento (además del nombre del script) al script. Si no se proporciona el número correcto de argumentos, se lanza otra AssertionError con un mensaje personalizado.\n",
    "\n",
    "Si no se generan errores hasta este punto, se llama a la función check_odd_or_even con el número proporcionado como argumento, y el resultado se imprime.\n",
    "\n",
    "Si se produce alguna AssertionError en cualquier punto del proceso, se captura y se imprime el tipo de error junto con el mensaje de error."
   ]
  }
 ],
 "metadata": {
  "kernelspec": {
   "display_name": "Python 3",
   "language": "python",
   "name": "python3"
  },
  "language_info": {
   "codemirror_mode": {
    "name": "ipython",
    "version": 3
   },
   "file_extension": ".py",
   "mimetype": "text/x-python",
   "name": "python",
   "nbconvert_exporter": "python",
   "pygments_lexer": "ipython3",
   "version": "3.10.14"
  }
 },
 "nbformat": 4,
 "nbformat_minor": 2
}
