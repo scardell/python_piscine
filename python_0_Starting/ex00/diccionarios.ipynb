{
 "cells": [
  {
   "cell_type": "markdown",
   "metadata": {},
   "source": [
    "En Python, un diccionario es una estructura de datos que se utiliza para almacenar pares de clave-valor. Cada clave está asociada a un valor específico, y se utiliza para acceder al valor correspondiente dentro del diccionario. Los diccionarios son mutables, lo que significa que puedes modificar, agregar o eliminar elementos después de su creación.\n"
   ]
  },
  {
   "cell_type": "markdown",
   "metadata": {},
   "source": [
    "Aquí hay algunas características importantes de los diccionarios en Python:\n"
   ]
  },
  {
   "cell_type": "markdown",
   "metadata": {},
   "source": [
    "1. Asociación clave-valor: Cada elemento dentro de un diccionario consiste en un par clave-valor. La clave actúa como un identificador único y se utiliza para acceder al valor correspondiente en el diccionario."
   ]
  },
  {
   "cell_type": "markdown",
   "metadata": {},
   "source": [
    "2. Mutabilidad: Los diccionarios pueden cambiar de tamaño y contenido después de ser creados. Puedes agregar, modificar o eliminar elementos según sea necesario."
   ]
  },
  {
   "cell_type": "markdown",
   "metadata": {},
   "source": [
    "3. Sintaxis: Los diccionarios se definen utilizando llaves {}. Los pares clave-valor se separan por comas, y la clave y el valor se separan por dos puntos :."
   ]
  },
  {
   "cell_type": "code",
   "execution_count": null,
   "metadata": {},
   "outputs": [],
   "source": [
    "mi_diccionario = {\"clave1\": valor1, \"clave2\": valor2, \"clave3\": valor3}"
   ]
  },
  {
   "cell_type": "markdown",
   "metadata": {},
   "source": [
    "4. Acceso a elementos: Puedes acceder a los valores de un diccionario utilizando la clave correspondiente."
   ]
  },
  {
   "cell_type": "code",
   "execution_count": null,
   "metadata": {},
   "outputs": [],
   "source": [
    "print(mi_diccionario[\"clave1\"])  # Imprime el valor asociado a la clave1"
   ]
  },
  {
   "cell_type": "markdown",
   "metadata": {},
   "source": [
    "5. Claves únicas: Las claves en un diccionario deben ser únicas. Si intentas agregar una clave que ya existe, el valor asociado con esa clave se actualizará."
   ]
  },
  {
   "cell_type": "markdown",
   "metadata": {},
   "source": [
    "6. Tipos de datos de claves y valores: Las claves de un diccionario pueden ser de cualquier tipo inmutable, como cadenas, números o tuplas. Los valores pueden ser de cualquier tipo de dato, incluidos otros diccionarios, listas o incluso funciones."
   ]
  },
  {
   "cell_type": "markdown",
   "metadata": {},
   "source": [
    "7. Iteración sobre diccionarios: Puedes iterar sobre un diccionario utilizando bucles for. Por defecto, los bucles for iteran sobre las claves del diccionario, pero puedes acceder tanto a las claves como a los valores utilizando el método items()."
   ]
  },
  {
   "cell_type": "code",
   "execution_count": null,
   "metadata": {},
   "outputs": [],
   "source": [
    "for clave in mi_diccionario:\n",
    "    print(clave, mi_diccionario[clave])\n",
    "\n",
    "# O también\n",
    "for clave, valor in mi_diccionario.items():\n",
    "    print(clave, valor)"
   ]
  },
  {
   "cell_type": "markdown",
   "metadata": {},
   "source": [
    "8. Funciones útiles: Los diccionarios tienen métodos útiles como keys() para obtener una vista de las claves, values() para obtener una vista de los valores y items() para obtener una vista de los pares clave-valor."
   ]
  },
  {
   "cell_type": "code",
   "execution_count": null,
   "metadata": {},
   "outputs": [],
   "source": [
    "claves = mi_diccionario.keys()\n",
    "valores = mi_diccionario.values()\n",
    "pares = mi_diccionario.items()"
   ]
  },
  {
   "cell_type": "markdown",
   "metadata": {},
   "source": [
    "Los diccionarios son una estructura de datos muy útil en Python y se utilizan ampliamente para mapear claves a valores y para representar datos estructurados de manera flexible."
   ]
  },
  {
   "cell_type": "markdown",
   "metadata": {},
   "source": [
    "Los diccionarios en Python admiten una amplia variedad de operaciones que te permiten manipular y trabajar con los datos de forma eficiente. Aquí hay algunas de las operaciones más comunes que puedes realizar con diccionarios:"
   ]
  },
  {
   "cell_type": "markdown",
   "metadata": {},
   "source": [
    "1. Acceso a elementos: Puedes acceder al valor asociado con una clave utilizando la sintaxis de corchetes [clave]."
   ]
  },
  {
   "cell_type": "code",
   "execution_count": null,
   "metadata": {},
   "outputs": [],
   "source": [
    "mi_diccionario = {\"nombre\": \"Juan\", \"edad\": 30, \"ciudad\": \"Madrid\"}\n",
    "print(mi_diccionario[\"nombre\"])  # Imprime: Juan"
   ]
  },
  {
   "cell_type": "markdown",
   "metadata": {},
   "source": [
    "2. Asignación de elementos: Puedes asignar un valor a una clave en un diccionario utilizando la sintaxis de corchetes."
   ]
  },
  {
   "cell_type": "code",
   "execution_count": null,
   "metadata": {},
   "outputs": [],
   "source": [
    "mi_diccionario[\"edad\"] = 35\n",
    "print(mi_diccionario)  # Imprime: {'nombre': 'Juan', 'edad': 35, 'ciudad': 'Madrid'}"
   ]
  },
  {
   "cell_type": "markdown",
   "metadata": {},
   "source": [
    "3. Eliminación de elementos: Puedes eliminar un elemento de un diccionario utilizando la palabra clave del."
   ]
  },
  {
   "cell_type": "code",
   "execution_count": null,
   "metadata": {},
   "outputs": [],
   "source": [
    "del mi_diccionario[\"ciudad\"]\n",
    "print(mi_diccionario)  # Imprime: {'nombre': 'Juan', 'edad': 35}\n"
   ]
  },
  {
   "cell_type": "markdown",
   "metadata": {},
   "source": [
    "4. Comprobación de pertenencia: Puedes verificar si una clave está presente en un diccionario utilizando el operador in."
   ]
  },
  {
   "cell_type": "code",
   "execution_count": null,
   "metadata": {},
   "outputs": [],
   "source": [
    "print(\"nombre\" in mi_diccionario)  # Imprime: True\n",
    "print(\"apellido\" in mi_diccionario)  # Imprime: False"
   ]
  },
  {
   "cell_type": "markdown",
   "metadata": {},
   "source": [
    "5. Obtención de claves, valores y pares clave-valor: Puedes obtener una lista de todas las claves, valores o pares clave-valor en un diccionario utilizando los métodos keys(), values() y items() respectivamente."
   ]
  },
  {
   "cell_type": "code",
   "execution_count": null,
   "metadata": {},
   "outputs": [],
   "source": [
    "claves = mi_diccionario.keys()\n",
    "print(claves)  # Imprime: dict_keys(['nombre', 'edad'])\n",
    "\n",
    "valores = mi_diccionario.values()\n",
    "print(valores)  # Imprime: dict_values(['Juan', 35])\n",
    "\n",
    "pares = mi_diccionario.items()\n",
    "print(pares)  # Imprime: dict_items([('nombre', 'Juan'), ('edad', 35)])\n"
   ]
  },
  {
   "cell_type": "markdown",
   "metadata": {},
   "source": [
    "6. Longitud del diccionario: Puedes obtener la cantidad de elementos en un diccionario utilizando la función len()."
   ]
  },
  {
   "cell_type": "code",
   "execution_count": null,
   "metadata": {},
   "outputs": [],
   "source": [
    "print(len(mi_diccionario))  # Imprime: 2\n"
   ]
  },
  {
   "cell_type": "markdown",
   "metadata": {},
   "source": [
    "7. Copiado de diccionarios: Puedes copiar un diccionario utilizando el método copy()."
   ]
  },
  {
   "cell_type": "code",
   "execution_count": null,
   "metadata": {},
   "outputs": [],
   "source": [
    "copia_diccionario = mi_diccionario.copy()"
   ]
  },
  {
   "cell_type": "markdown",
   "metadata": {},
   "source": [
    "8. Actualización de diccionarios: Puedes agregar los elementos de un diccionario a otro utilizando el método update()."
   ]
  },
  {
   "cell_type": "code",
   "execution_count": null,
   "metadata": {},
   "outputs": [],
   "source": [
    "otro_diccionario = {\"apellido\": \"Pérez\"}\n",
    "mi_diccionario.update(otro_diccionario)\n",
    "print(mi_diccionario)  # Imprime: {'nombre': 'Juan', 'edad': 35, 'apellido': 'Pérez'}\n"
   ]
  },
  {
   "cell_type": "markdown",
   "metadata": {},
   "source": [
    "Agragar, modificar y eliminar elementos"
   ]
  },
  {
   "cell_type": "markdown",
   "metadata": {},
   "source": [
    "Agregar elementos:"
   ]
  },
  {
   "cell_type": "markdown",
   "metadata": {},
   "source": [
    "Puedes agregar un nuevo par clave-valor al diccionario utilizando la sintaxis de corchetes [] o el método update().\n",
    "\n",
    "Utilizando corchetes []:"
   ]
  },
  {
   "cell_type": "code",
   "execution_count": null,
   "metadata": {},
   "outputs": [],
   "source": [
    "mi_diccionario = {\"nombre\": \"Juan\", \"edad\": 30}\n",
    "mi_diccionario[\"ciudad\"] = \"Madrid\"\n",
    "print(mi_diccionario)  # Imprime: {'nombre': 'Juan', 'edad': 30, 'ciudad': 'Madrid'}"
   ]
  },
  {
   "cell_type": "markdown",
   "metadata": {},
   "source": [
    "Utilizando el método update():"
   ]
  },
  {
   "cell_type": "code",
   "execution_count": null,
   "metadata": {},
   "outputs": [],
   "source": [
    "otro_diccionario = {\"apellido\": \"Pérez\", \"profesion\": \"Ingeniero\"}\n",
    "mi_diccionario.update(otro_diccionario)\n",
    "print(mi_diccionario)  # Imprime: {'nombre': 'Juan', 'edad': 30, 'ciudad': 'Madrid', 'apellido': 'Pérez', 'profesion': 'Ingeniero'}"
   ]
  },
  {
   "cell_type": "markdown",
   "metadata": {},
   "source": [
    "Modificar elementos:\n",
    "\n",
    "Puedes modificar el valor de una clave existente en el diccionario asignándole un nuevo valor."
   ]
  },
  {
   "cell_type": "code",
   "execution_count": null,
   "metadata": {},
   "outputs": [],
   "source": [
    "mi_diccionario[\"edad\"] = 35\n",
    "print(mi_diccionario)  # Imprime: {'nombre': 'Juan', 'edad': 35, 'ciudad': 'Madrid', 'apellido': 'Pérez', 'profesion': 'Ingeniero'}"
   ]
  },
  {
   "cell_type": "markdown",
   "metadata": {},
   "source": [
    "Eliminar elementos:\n",
    "\n",
    "Puedes eliminar un elemento del diccionario utilizando la palabra clave del o el método pop().\n",
    "\n",
    "Utilizando del:"
   ]
  },
  {
   "cell_type": "code",
   "execution_count": null,
   "metadata": {},
   "outputs": [],
   "source": [
    "del mi_diccionario[\"apellido\"]\n",
    "print(mi_diccionario)  # Imprime: {'nombre': 'Juan', 'edad': 35, 'ciudad': 'Madrid', 'profesion': 'Ingeniero'}"
   ]
  },
  {
   "cell_type": "markdown",
   "metadata": {},
   "source": [
    "Utilizando pop():"
   ]
  },
  {
   "cell_type": "code",
   "execution_count": null,
   "metadata": {},
   "outputs": [],
   "source": [
    "valor_eliminado = mi_diccionario.pop(\"edad\")\n",
    "print(valor_eliminado)  # Imprime: 35\n",
    "print(mi_diccionario)  # Imprime: {'nombre': 'Juan', 'ciudad': 'Madrid', 'profesion': 'Ingeniero'}"
   ]
  },
  {
   "cell_type": "markdown",
   "metadata": {},
   "source": [
    "También puedes utilizar el método clear() para eliminar todos los elementos del diccionario:"
   ]
  },
  {
   "cell_type": "code",
   "execution_count": null,
   "metadata": {},
   "outputs": [],
   "source": [
    "mi_diccionario.clear()\n",
    "print(mi_diccionario)  # Imprime: {}"
   ]
  }
 ],
 "metadata": {
  "language_info": {
   "name": "python"
  }
 },
 "nbformat": 4,
 "nbformat_minor": 2
}
