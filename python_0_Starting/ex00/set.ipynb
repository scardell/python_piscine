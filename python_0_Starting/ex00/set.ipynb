{
 "cells": [
  {
   "cell_type": "markdown",
   "metadata": {},
   "source": [
    "En Python, un conjunto (set en inglés) es una colección desordenada y mutable de elementos únicos. Se utilizan para almacenar elementos distintos, sin duplicados, y son útiles cuando necesitas realizar operaciones como la eliminación de duplicados, pruebas de pertenencia y operaciones de conjuntos como unión, intersección, diferencia, etc"
   ]
  },
  {
   "cell_type": "markdown",
   "metadata": {},
   "source": [
    "Aquí hay algunas características importantes de los conjuntos en Python:"
   ]
  },
  {
   "cell_type": "markdown",
   "metadata": {},
   "source": [
    "1. Elementos únicos: Los conjuntos no pueden contener elementos duplicados. Si intentas agregar un elemento que ya está presente en el conjunto, no se agregará nuevamente."
   ]
  },
  {
   "cell_type": "markdown",
   "metadata": {},
   "source": [
    "2. Colección desordenada: Los elementos de un conjunto no tienen un orden específico. Esto significa que los elementos no se almacenan en una secuencia ordenada y no se puede acceder a ellos mediante un índice."
   ]
  },
  {
   "cell_type": "markdown",
   "metadata": {},
   "source": [
    "3. Mutabilidad: Los conjuntos son mutables, lo que significa que puedes agregar y eliminar elementos después de su creación."
   ]
  },
  {
   "cell_type": "markdown",
   "metadata": {},
   "source": [
    "4. Sintaxis: Los conjuntos se definen utilizando llaves {} o la función set(), y los elementos se separan por comas."
   ]
  },
  {
   "cell_type": "code",
   "execution_count": null,
   "metadata": {},
   "outputs": [],
   "source": [
    "mi_conjunto = {1, 2, 3}\n",
    "otro_conjunto = set([4, 5, 6])"
   ]
  },
  {
   "cell_type": "markdown",
   "metadata": {},
   "source": [
    "5. Operaciones de conjuntos: Los conjuntos admiten una variedad de operaciones de conjuntos, como unión, intersección, diferencia y diferencia simétrica. Estas operaciones son útiles para comparar conjuntos y realizar operaciones basadas en teoría de conjuntos."
   ]
  },
  {
   "cell_type": "markdown",
   "metadata": {},
   "source": [
    "6. Pruebas de pertenencia eficientes: Puedes verificar rápidamente si un elemento está presente en un conjunto utilizando el operador in."
   ]
  },
  {
   "cell_type": "markdown",
   "metadata": {},
   "source": [
    "7. Iterabilidad: Puedes iterar sobre los elementos de un conjunto utilizando bucles for."
   ]
  },
  {
   "cell_type": "markdown",
   "metadata": {},
   "source": [
    "8. Inmutabilidad de los elementos: Los elementos de un conjunto deben ser objetos inmutables, como números, cadenas o tuplas. Los conjuntos no pueden contener listas u otros conjuntos."
   ]
  },
  {
   "cell_type": "markdown",
   "metadata": {},
   "source": [
    "Aquí hay un ejemplo de cómo puedes trabajar con conjuntos en Python:"
   ]
  },
  {
   "cell_type": "code",
   "execution_count": null,
   "metadata": {},
   "outputs": [],
   "source": [
    "A = {1, 2, 3}\n",
    "B = {3, 4, 5}\n",
    "\n",
    "# Unión\n",
    "union = A | B  # o A.union(B)\n",
    "print(union)  # Imprime: {1, 2, 3, 4, 5}\n",
    "\n",
    "# Intersección\n",
    "interseccion = A & B  # o A.intersection(B)\n",
    "print(interseccion)  # Imprime: {3}\n",
    "\n",
    "# Diferencia\n",
    "diferencia = A - B  # o A.difference(B)\n",
    "print(diferencia)  # Imprime: {1, 2}\n",
    "\n",
    "# Diferencia simétrica\n",
    "diferencia_simetrica = A ^ B  # o A.symmetric_difference(B)\n",
    "print(diferencia_simetrica)  # Imprime: {1, 2, 4, 5}"
   ]
  },
  {
   "cell_type": "markdown",
   "metadata": {},
   "source": [
    "Los conjuntos son una estructura de datos muy útil en Python que proporciona eficiencia y conveniencia para trabajar con colecciones de elementos únicos."
   ]
  }
 ],
 "metadata": {
  "language_info": {
   "name": "python"
  }
 },
 "nbformat": 4,
 "nbformat_minor": 2
}
