{
 "cells": [
  {
   "cell_type": "markdown",
   "metadata": {},
   "source": [
    "En Python, una lista es un tipo de dato que se utiliza para almacenar una colección ordenada de elementos. Puedes pensar en una lista como una secuencia de elementos, donde cada elemento tiene una posición relativa dentro de la lista, comenzando desde el índice 0.\n",
    "\n",
    "Las listas en Python tienen las siguientes características principales:\n",
    "\n",
    "Ordenadas: Los elementos de una lista están ordenados y mantienen el orden en el que fueron insertados.\n",
    "\n",
    "Mutables: Puedes cambiar, agregar o eliminar elementos después de que la lista ha sido creada. Esto significa que las listas son mutables.\n",
    "\n",
    "Heterogéneas: Una lista puede contener elementos de diferentes tipos de datos, como enteros, cadenas, booleanos, e incluso otras listas u otros objetos más complejos.\n",
    "\n",
    "Acceso mediante índices: Puedes acceder a los elementos de una lista utilizando índices enteros, comenzando desde 0 para el primer elemento y hasta (longitud de la lista - 1) para el último elemento.\n",
    "\n",
    "Iterable: Las listas pueden ser utilizadas en bucles for, lo que significa que puedes iterar sobre todos los elementos de la lista uno por uno."
   ]
  },
  {
   "cell_type": "markdown",
   "metadata": {},
   "source": [
    "En Python, las listas son un tipo de dato versátil y flexible que permite una amplia gama de operaciones. Aquí están algunas de las operaciones más comunes que puedes realizar con listas:"
   ]
  },
  {
   "cell_type": "markdown",
   "metadata": {},
   "source": [
    "Acceder a elementos: Puedes acceder a elementos individuales de una lista utilizando índices."
   ]
  },
  {
   "cell_type": "code",
   "execution_count": null,
   "metadata": {},
   "outputs": [],
   "source": [
    "mi_lista = [1, 2, 3, 4, 5]\n",
    "print(mi_lista[0])  # Imprime el primer elemento: 1\n",
    "print(mi_lista[-1])  # Imprime el último elemento: 5"
   ]
  },
  {
   "cell_type": "markdown",
   "metadata": {},
   "source": [
    "Cortar listas: Puedes obtener subconjuntos de una lista utilizando la notación de cortes (slicing)."
   ]
  },
  {
   "cell_type": "code",
   "execution_count": null,
   "metadata": {},
   "outputs": [],
   "source": [
    "print(mi_lista[1:3])  # Imprime elementos desde el índice 1 al 2: [2, 3]"
   ]
  },
  {
   "cell_type": "markdown",
   "metadata": {},
   "source": [
    "Modificar elementos: Puedes cambiar el valor de elementos individuales en una lista."
   ]
  },
  {
   "cell_type": "code",
   "execution_count": null,
   "metadata": {},
   "outputs": [],
   "source": [
    "mi_lista[0] = 10\n",
    "print(mi_lista)  # Imprime: [10, 2, 3, 4, 5]"
   ]
  },
  {
   "cell_type": "markdown",
   "metadata": {},
   "source": [
    "Agregar elementos: Puedes agregar elementos al final de una lista usando el método append() o insertar elementos en una posición específica utilizando el método insert()."
   ]
  },
  {
   "cell_type": "code",
   "execution_count": null,
   "metadata": {},
   "outputs": [],
   "source": [
    "mi_lista.append(6)\n",
    "print(mi_lista)  # Imprime: [10, 2, 3, 4, 5, 6]\n",
    "\n",
    "mi_lista.insert(2, 100)\n",
    "print(mi_lista)  # Imprime: [10, 2, 100, 3, 4, 5, 6]"
   ]
  },
  {
   "cell_type": "markdown",
   "metadata": {},
   "source": [
    "Eliminar elementos: Puedes eliminar elementos de una lista utilizando el método remove() para eliminar por valor, pop() para eliminar por índice y devolver el elemento eliminado, o del para eliminar por índice sin devolver el elemento."
   ]
  },
  {
   "cell_type": "code",
   "execution_count": null,
   "metadata": {},
   "outputs": [],
   "source": [
    "mi_lista.remove(100)  # Elimina el elemento 100 de la lista\n",
    "print(mi_lista)  # Imprime: [10, 2, 3, 4, 5, 6]\n",
    "\n",
    "elemento_eliminado = mi_lista.pop(2)  # Elimina el elemento en el índice 2 (3) y lo devuelve\n",
    "print(elemento_eliminado)  # Imprime: 3\n",
    "print(mi_lista)  # Imprime: [10, 2, 4, 5, 6]\n",
    "\n",
    "del mi_lista[0]  # Elimina el primer elemento de la lista\n",
    "print(mi_lista)  # Imprime: [2, 4, 5, 6]"
   ]
  },
  {
   "cell_type": "markdown",
   "metadata": {},
   "source": [
    "Concatenar listas: Puedes combinar dos listas utilizando el operador + o el método extend()."
   ]
  },
  {
   "cell_type": "code",
   "execution_count": null,
   "metadata": {},
   "outputs": [],
   "source": [
    "otra_lista = [7, 8, 9]\n",
    "lista_concatenada = mi_lista + otra_lista\n",
    "print(lista_concatenada)  # Imprime: [2, 4, 5, 6, 7, 8, 9]\n",
    "\n",
    "mi_lista.extend(otra_lista)\n",
    "print(mi_lista)  # Imprime: [2, 4, 5, 6, 7, 8, 9]"
   ]
  }
 ],
 "metadata": {
  "language_info": {
   "name": "python"
  }
 },
 "nbformat": 4,
 "nbformat_minor": 2
}
