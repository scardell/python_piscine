{
 "cells": [
  {
   "cell_type": "markdown",
   "metadata": {},
   "source": [
    "Este script toma un objeto como entrada, determina su tipo y luego imprime un mensaje correspondiente a ese tipo. También devuelve un valor indicando si el tipo del objeto no se encontró en el diccionario predefinido."
   ]
  },
  {
   "cell_type": "markdown",
   "metadata": {},
   "source": [
    "1. Importar el módulo math:"
   ]
  },
  {
   "cell_type": "code",
   "execution_count": 1,
   "metadata": {},
   "outputs": [],
   "source": [
    "import math"
   ]
  },
  {
   "cell_type": "markdown",
   "metadata": {},
   "source": [
    "Esto simplemente importa el módulo math, que proporciona funciones matemáticas estándar en Python. En este script, se usa para acceder al valor math.nan, que representa \"Not a Number\""
   ]
  },
  {
   "cell_type": "markdown",
   "metadata": {},
   "source": [
    "2. Definir la función NULL_not_found:"
   ]
  },
  {
   "cell_type": "code",
   "execution_count": null,
   "metadata": {},
   "outputs": [],
   "source": [
    "def NULL_not_found(object: any) -> int:"
   ]
  },
  {
   "cell_type": "markdown",
   "metadata": {},
   "source": [
    "Aquí, se define una función llamada NULL_not_found. Esta función toma un argumento llamado object, el cual puede ser de cualquier tipo (any), y devuelve un entero (int)."
   ]
  },
  {
   "cell_type": "markdown",
   "metadata": {},
   "source": [
    "3. Definir el diccionario type_names:"
   ]
  },
  {
   "cell_type": "code",
   "execution_count": null,
   "metadata": {},
   "outputs": [],
   "source": [
    "type_names = {\n",
    "    None: \"Nothing\",\n",
    "    math.nan: \"Cheese\",\n",
    "    0: \"Zero\",\n",
    "    '0': \"Zero\",\n",
    "    '': \"Empty\",\n",
    "    False: \"Fake\"\n",
    "}"
   ]
  },
  {
   "cell_type": "markdown",
   "metadata": {},
   "source": [
    "Se define un diccionario llamado type_names. Cada clave en este diccionario representa un valor, y el valor asociado a cada clave es un nombre que describe el tipo del valor. Por ejemplo, None está asociado a \"Nothing\", 0 está asociado a \"Zero\", etc."
   ]
  },
  {
   "cell_type": "markdown",
   "metadata": {},
   "source": [
    "4. Inicialización de variables:"
   ]
  },
  {
   "cell_type": "code",
   "execution_count": null,
   "metadata": {},
   "outputs": [],
   "source": [
    "flag = 0\n",
    "type_name = type_names.get(object, \"Type not Found\")"
   ]
  },
  {
   "cell_type": "markdown",
   "metadata": {},
   "source": [
    "Se inicializa una variable flag con el valor 0. Luego, se asigna a la variable type_name el valor asociado al tipo del objeto proporcionado como argumento, según el diccionario type_names. Si el tipo no se encuentra en el diccionario, se asigna el valor \"Type not Found\" por defecto."
   ]
  },
  {
   "cell_type": "markdown",
   "metadata": {},
   "source": [
    "5. Comprobación del tipo y mensajes de impresión:"
   ]
  },
  {
   "cell_type": "code",
   "execution_count": null,
   "metadata": {},
   "outputs": [],
   "source": [
    "if type_name == \"Type not Found\":\n",
    "    flag = 1\n",
    "\n",
    "if object is None:\n",
    "    print(f\"Nothing: {object} {type(object)}\")\n",
    "elif object == 0 and type(object) is int:\n",
    "    print(f\"Zero: {object} {type(object)}\")\n",
    "elif type(object) is float:\n",
    "    print(f\"Cheese: {object} {type(object)}\")\n",
    "elif object == '':\n",
    "    print(f\"Empty: {object} {type(object)}\")\n",
    "elif type(object) is str and type_name != \"Type not Found\":\n",
    "    print(f\"{type(object)}: {object}\")\n",
    "elif not object and type(object) is bool:\n",
    "    print(f\"Fake: {object} {type(object)}\")\n",
    "else:  \n",
    "    print(\"Type not Found\")"
   ]
  },
  {
   "cell_type": "markdown",
   "metadata": {},
   "source": [
    "Aquí se realizan varias comprobaciones para determinar el tipo del objeto y se imprimen mensajes correspondientes:\n",
    "\n",
    "Si type_name es \"Type not Found\", se establece flag en 1.\n",
    "\n",
    "Luego, se comprueban varias condiciones para el tipo del objeto y se imprimen mensajes apropiados según el tipo."
   ]
  },
  {
   "cell_type": "markdown",
   "metadata": {},
   "source": [
    "6. Devolver un valor:"
   ]
  },
  {
   "cell_type": "code",
   "execution_count": null,
   "metadata": {},
   "outputs": [],
   "source": [
    "if flag == 1:\n",
    "    return 1\n",
    "return 0"
   ]
  },
  {
   "cell_type": "markdown",
   "metadata": {},
   "source": [
    "Finalmente, se devuelve un valor. Si flag es 1, la función devuelve 1. De lo contrario, devuelve 0"
   ]
  }
 ],
 "metadata": {
  "kernelspec": {
   "display_name": "Python 3",
   "language": "python",
   "name": "python3"
  },
  "language_info": {
   "codemirror_mode": {
    "name": "ipython",
    "version": 3
   },
   "file_extension": ".py",
   "mimetype": "text/x-python",
   "name": "python",
   "nbconvert_exporter": "python",
   "pygments_lexer": "ipython3",
   "version": "3.11.8"
  }
 },
 "nbformat": 4,
 "nbformat_minor": 2
}
