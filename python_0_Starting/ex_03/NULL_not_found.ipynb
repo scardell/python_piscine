{
 "cells": [
  {
   "cell_type": "markdown",
   "metadata": {},
   "source": [
    "Este script toma un objeto como entrada, determina su tipo y luego imprime un mensaje correspondiente a ese tipo. También devuelve un valor indicando si el tipo del objeto no se encontró en el diccionario predefinido."
   ]
  },
  {
   "cell_type": "markdown",
   "metadata": {},
   "source": [
    "1. Importar el módulo math:"
   ]
  },
  {
   "cell_type": "code",
   "execution_count": null,
   "metadata": {},
   "outputs": [],
   "source": [
    "import math"
   ]
  },
  {
   "cell_type": "markdown",
   "metadata": {},
   "source": [
    "Esto simplemente importa el módulo math, que proporciona funciones matemáticas estándar en Python. En este script, se usa para acceder al valor math.nan, que representa \"Not a Number\""
   ]
  },
  {
   "cell_type": "markdown",
   "metadata": {},
   "source": [
    "2. Definir la función NULL_not_found:\n",
    "3. Definir el diccionario type_names:"
   ]
  },
  {
   "cell_type": "code",
   "execution_count": null,
   "metadata": {},
   "outputs": [],
   "source": [
    "def NULL_not_found(object: any) -> int:\n",
    "    type_names = {\n",
    "    None: \"Nothing\",\n",
    "    math.nan: \"Cheese\",\n",
    "    0: \"Zero\",\n",
    "    '0': \"Zero\",\n",
    "    '': \"Empty\",\n",
    "    False: \"Fake\"\n",
    "}"
   ]
  },
  {
   "cell_type": "markdown",
   "metadata": {},
   "source": [
    "Aquí, se define una función llamada NULL_not_found. Esta función toma un argumento llamado object, el cual puede ser de cualquier tipo (any), y devuelve un entero (int)."
   ]
  },
  {
   "cell_type": "markdown",
   "metadata": {},
   "source": [
    "Se define un diccionario llamado type_names. Cada clave en este diccionario representa un valor, y el valor asociado a cada clave es un nombre que describe el tipo del valor. Por ejemplo, None está asociado a \"Nothing\", 0 está asociado a \"Zero\", etc."
   ]
  },
  {
   "cell_type": "code",
   "execution_count": null,
   "metadata": {},
   "outputs": [],
   "source": [
    "import math\n",
    "\n",
    "def NULL_not_found(object: any) -> int:\n",
    "    # Diccionario que mapea tipos a nombres descriptivos\n",
    "    type_names = {\n",
    "        None: \"Nothing\",\n",
    "        math.nan: \"Cheese\",\n",
    "        0: \"Zero\",\n",
    "        '0': \"Zero\",\n",
    "        '': \"Empty\",\n",
    "        False: \"Fake\"\n",
    "    }\n",
    "\n",
    "    # Obtener el nombre del tipo del objeto del diccionario type_names\n",
    "    type_name = type_names.get(object, \"Type not Found\")\n",
    "\n",
    "    # Verificar si el objeto es NaN\n",
    "    if type(object) is float and math.isnan(object):\n",
    "        print(f\"Cheese: {object} {type(object)}\")\n",
    "    # Verificar si el objeto es igual a 0 y su tipo es un entero\n",
    "    elif object == 0 and type(object) is int:\n",
    "        print(f\"Zero: {object} {type(object)}\")\n",
    "    # Si el nombre del tipo del objeto está en el diccionario type_names, imprimir el nombre del tipo\n",
    "    elif type_name != \"Type not Found\":\n",
    "        print(f\"{type_name}: {object} {type(object)}\")\n",
    "    # Si el tipo del objeto no se encuentra en type_names, imprimir \"Type not found\"\n",
    "    else:\n",
    "        print(\"Type not found\")\n",
    "        return 1\n",
    "    # Devolver 0 si no hay problemas\n",
    "    return 0\n"
   ]
  },
  {
   "cell_type": "markdown",
   "metadata": {},
   "source": [
    "1. Importación del módulo math: Se importa el módulo math, que se utiliza más adelante para trabajar con el valor NaN (Not a Number).\n",
    "\n",
    "2. Definición de la función NULL_not_found: Se define la función NULL_not_found, que toma un argumento object de cualquier tipo y devuelve un entero.\n",
    "\n",
    "3. Diccionario type_names: Se define un diccionario llamado type_names que mapea diferentes tipos de objetos a sus nombres descriptivos. Por ejemplo, None se asigna como \"Nothing\", math.nan como \"Cheese\", etc.\n",
    "\n",
    "4. Obtención del nombre del tipo del objeto: Se utiliza el método get() del diccionario type_names para obtener el nombre del tipo del objeto. Si el tipo del objeto no está en el diccionario, se devuelve \"Type not Found\".\n",
    "\n",
    "5. Verificación de NaN: Se verifica si el objeto es un número de punto flotante y si es NaN utilizando math.isnan(object). Si es así, se imprime \"Cheese\" junto con el objeto y su tipo.\n",
    "\n",
    "6. Verificación de cero: Se verifica si el objeto es igual a 0 y si su tipo es un entero. Si es así, se imprime \"Zero\" junto con el objeto y su tipo.\n",
    "\n",
    "7. Impresión del nombre del tipo: Si el nombre del tipo del objeto se encuentra en el diccionario type_names, se imprime junto con el objeto y su tipo.\n",
    "\n",
    "8. Manejo de tipos no encontrados: Si el tipo del objeto no se encuentra en type_names, se imprime \"Type not found\" y se devuelve 1.\n",
    "\n",
    "9. Devolución del valor de retorno: Finalmente, se devuelve 0 si no se encuentran problemas durante la ejecución de la función."
   ]
  },
  {
   "cell_type": "markdown",
   "metadata": {},
   "source": [
    "Tester"
   ]
  },
  {
   "cell_type": "code",
   "execution_count": null,
   "metadata": {},
   "outputs": [],
   "source": [
    "from NULL_not_found import NULL_not_found\n",
    "Nothing = None\n",
    "Garlic = float(\"NaN\")\n",
    "Zero = 0\n",
    "Empty = ''\n",
    "Fake = False\n",
    "NULL_not_found(Nothing)\n",
    "NULL_not_found(Garlic)\n",
    "NULL_not_found(Zero)\n",
    "NULL_not_found(Empty)\n",
    "NULL_not_found(Fake)\n",
    "print(NULL_not_found(\"Brian\"))"
   ]
  }
 ],
 "metadata": {
  "kernelspec": {
   "display_name": "Python 3",
   "language": "python",
   "name": "python3"
  },
  "language_info": {
   "codemirror_mode": {
    "name": "ipython",
    "version": 3
   },
   "file_extension": ".py",
   "mimetype": "text/x-python",
   "name": "python",
   "nbconvert_exporter": "python",
   "pygments_lexer": "ipython3",
   "version": "3.11.9"
  }
 },
 "nbformat": 4,
 "nbformat_minor": 2
}
